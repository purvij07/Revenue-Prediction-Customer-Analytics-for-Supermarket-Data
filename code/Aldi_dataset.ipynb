{
 "cells": [
  {
   "cell_type": "code",
   "execution_count": 1,
   "id": "134e1d36",
   "metadata": {},
   "outputs": [],
   "source": [
    "import pandas as pd\n",
    "import numpy as np\n",
    "import seaborn as sns\n",
    "import matplotlib.pyplot as plt\n",
    "%matplotlib inline "
   ]
  },
  {
   "cell_type": "code",
   "execution_count": 2,
   "id": "895ea8d3",
   "metadata": {},
   "outputs": [
    {
     "data": {
      "text/html": [
       "<div>\n",
       "<style scoped>\n",
       "    .dataframe tbody tr th:only-of-type {\n",
       "        vertical-align: middle;\n",
       "    }\n",
       "\n",
       "    .dataframe tbody tr th {\n",
       "        vertical-align: top;\n",
       "    }\n",
       "\n",
       "    .dataframe thead th {\n",
       "        text-align: right;\n",
       "    }\n",
       "</style>\n",
       "<table border=\"1\" class=\"dataframe\">\n",
       "  <thead>\n",
       "    <tr style=\"text-align: right;\">\n",
       "      <th></th>\n",
       "      <th>supermarket</th>\n",
       "      <th>prices_(¬£)</th>\n",
       "      <th>prices_unit_(¬£)</th>\n",
       "      <th>unit</th>\n",
       "      <th>names</th>\n",
       "      <th>date</th>\n",
       "      <th>category</th>\n",
       "      <th>own_brand</th>\n",
       "    </tr>\n",
       "  </thead>\n",
       "  <tbody>\n",
       "    <tr>\n",
       "      <th>0</th>\n",
       "      <td>Aldi</td>\n",
       "      <td>1.39</td>\n",
       "      <td>1.20</td>\n",
       "      <td>l</td>\n",
       "      <td>Almat So Soft Luxurious Fabric Conditioner- Li...</td>\n",
       "      <td>20240211</td>\n",
       "      <td>household</td>\n",
       "      <td>False</td>\n",
       "    </tr>\n",
       "    <tr>\n",
       "      <th>1</th>\n",
       "      <td>Aldi</td>\n",
       "      <td>1.25</td>\n",
       "      <td>0.02</td>\n",
       "      <td>unit</td>\n",
       "      <td>Softly Balmsam Regular Tissues 80 Sheets 1 Pack</td>\n",
       "      <td>20240211</td>\n",
       "      <td>household</td>\n",
       "      <td>False</td>\n",
       "    </tr>\n",
       "    <tr>\n",
       "      <th>2</th>\n",
       "      <td>Aldi</td>\n",
       "      <td>2.55</td>\n",
       "      <td>0.01</td>\n",
       "      <td>unit</td>\n",
       "      <td>Saxon Ultra Kitchen Towels 2 Rolls</td>\n",
       "      <td>20240211</td>\n",
       "      <td>household</td>\n",
       "      <td>False</td>\n",
       "    </tr>\n",
       "    <tr>\n",
       "      <th>3</th>\n",
       "      <td>Aldi</td>\n",
       "      <td>2.99</td>\n",
       "      <td>8.80</td>\n",
       "      <td>kg</td>\n",
       "      <td>Purewick Sweet Blossom Fragranced Candle 340g</td>\n",
       "      <td>20240211</td>\n",
       "      <td>household</td>\n",
       "      <td>False</td>\n",
       "    </tr>\n",
       "    <tr>\n",
       "      <th>4</th>\n",
       "      <td>Aldi</td>\n",
       "      <td>1.49</td>\n",
       "      <td>0.00</td>\n",
       "      <td>unit</td>\n",
       "      <td>Saxon Aloe Vera 3 Ply Toilet Tissue 4 Pack</td>\n",
       "      <td>20240211</td>\n",
       "      <td>household</td>\n",
       "      <td>False</td>\n",
       "    </tr>\n",
       "  </tbody>\n",
       "</table>\n",
       "</div>"
      ],
      "text/plain": [
       "  supermarket  prices_(¬£)  prices_unit_(¬£)  unit  \\\n",
       "0        Aldi         1.39              1.20     l   \n",
       "1        Aldi         1.25              0.02  unit   \n",
       "2        Aldi         2.55              0.01  unit   \n",
       "3        Aldi         2.99              8.80    kg   \n",
       "4        Aldi         1.49              0.00  unit   \n",
       "\n",
       "                                               names      date   category  \\\n",
       "0  Almat So Soft Luxurious Fabric Conditioner- Li...  20240211  household   \n",
       "1    Softly Balmsam Regular Tissues 80 Sheets 1 Pack  20240211  household   \n",
       "2                 Saxon Ultra Kitchen Towels 2 Rolls  20240211  household   \n",
       "3      Purewick Sweet Blossom Fragranced Candle 340g  20240211  household   \n",
       "4         Saxon Aloe Vera 3 Ply Toilet Tissue 4 Pack  20240211  household   \n",
       "\n",
       "   own_brand  \n",
       "0      False  \n",
       "1      False  \n",
       "2      False  \n",
       "3      False  \n",
       "4      False  "
      ]
     },
     "execution_count": 2,
     "metadata": {},
     "output_type": "execute_result"
    }
   ],
   "source": [
    "df_aldi = pd.read_csv(\"datasets/All_Data_Aldi.csv\")\n",
    "df_aldi.head()"
   ]
  },
  {
   "cell_type": "code",
   "execution_count": 3,
   "id": "5d2584cd",
   "metadata": {},
   "outputs": [],
   "source": [
    "# changing the name of the columns\n",
    "df_aldi = df_aldi.rename(columns = {'prices_(¬£)' : 'prices_pounds' , 'prices_unit_(¬£)' : 'per_unit_price'})"
   ]
  },
  {
   "cell_type": "code",
   "execution_count": 4,
   "id": "1bb828be",
   "metadata": {},
   "outputs": [
    {
     "name": "stdout",
     "output_type": "stream",
     "text": [
      "The shape of the Aldi dataset is (159524, 8)\n"
     ]
    }
   ],
   "source": [
    "print(\"The shape of the Aldi dataset is {}\".format(df_aldi.shape))"
   ]
  },
  {
   "cell_type": "code",
   "execution_count": 5,
   "id": "d498662d",
   "metadata": {},
   "outputs": [
    {
     "name": "stdout",
     "output_type": "stream",
     "text": [
      "The column names in Aldi dataset - Index(['supermarket', 'prices_pounds', 'per_unit_price', 'unit', 'names',\n",
      "       'date', 'category', 'own_brand'],\n",
      "      dtype='object')\n"
     ]
    }
   ],
   "source": [
    "print(\"The column names in Aldi dataset - {}\".format(df_aldi.columns))"
   ]
  },
  {
   "cell_type": "markdown",
   "id": "7320b277",
   "metadata": {},
   "source": [
    "## Data types of the columns"
   ]
  },
  {
   "cell_type": "code",
   "execution_count": 6,
   "id": "0d8958fd",
   "metadata": {},
   "outputs": [
    {
     "data": {
      "text/plain": [
       "supermarket        object\n",
       "prices_pounds     float64\n",
       "per_unit_price    float64\n",
       "unit               object\n",
       "names              object\n",
       "date                int64\n",
       "category           object\n",
       "own_brand            bool\n",
       "dtype: object"
      ]
     },
     "execution_count": 6,
     "metadata": {},
     "output_type": "execute_result"
    }
   ],
   "source": [
    "df_aldi.dtypes"
   ]
  },
  {
   "cell_type": "markdown",
   "id": "45e97105",
   "metadata": {},
   "source": [
    "## Check for null values"
   ]
  },
  {
   "cell_type": "code",
   "execution_count": 7,
   "id": "822d13e6",
   "metadata": {},
   "outputs": [
    {
     "data": {
      "text/plain": [
       "supermarket       0\n",
       "prices_pounds     0\n",
       "per_unit_price    4\n",
       "unit              4\n",
       "names             0\n",
       "date              0\n",
       "category          0\n",
       "own_brand         0\n",
       "dtype: int64"
      ]
     },
     "execution_count": 7,
     "metadata": {},
     "output_type": "execute_result"
    }
   ],
   "source": [
    "df_aldi.isnull().sum()"
   ]
  },
  {
   "cell_type": "code",
   "execution_count": 8,
   "id": "c6132b02",
   "metadata": {},
   "outputs": [
    {
     "name": "stdout",
     "output_type": "stream",
     "text": [
      "       supermarket  prices_pounds  per_unit_price unit  \\\n",
      "32546         Aldi           0.65             NaN  NaN   \n",
      "36734         Aldi           0.65             NaN  NaN   \n",
      "150457        Aldi           0.65             NaN  NaN   \n",
      "155823        Aldi           0.65             NaN  NaN   \n",
      "\n",
      "                                                    names      date  \\\n",
      "32546   Saxon Biodegradable Toilet Tissue Wipes - Fine...  20240205   \n",
      "36734   Saxon Biodegradable Toilet Tissue Wipes - Fine...  20240204   \n",
      "150457  Saxon Biodegradable Toilet Tissue Wipes - Fine...  20240110   \n",
      "155823  Saxon Biodegradable Toilet Tissue Wipes - Fine...  20240109   \n",
      "\n",
      "         category  own_brand  \n",
      "32546   household      False  \n",
      "36734   household      False  \n",
      "150457  household      False  \n",
      "155823  household      False  \n"
     ]
    }
   ],
   "source": [
    "# Checking which rows are null\n",
    "aldi_null = df_aldi[df_aldi.isnull().any(axis=1)]\n",
    "print(aldi_null)"
   ]
  },
  {
   "cell_type": "code",
   "execution_count": 9,
   "id": "021357ea",
   "metadata": {},
   "outputs": [
    {
     "data": {
      "text/plain": [
       "supermarket                                                    Aldi\n",
       "prices_pounds                                                  0.65\n",
       "per_unit_price                                                  NaN\n",
       "unit                                                            NaN\n",
       "names             Saxon Biodegradable Toilet Tissue Wipes - Fine...\n",
       "date                                                       20240205\n",
       "category                                                  household\n",
       "own_brand                                                     False\n",
       "Name: 32546, dtype: object"
      ]
     },
     "execution_count": 9,
     "metadata": {},
     "output_type": "execute_result"
    }
   ],
   "source": [
    "df_aldi.iloc[32546]"
   ]
  },
  {
   "cell_type": "code",
   "execution_count": 10,
   "id": "9473ce7a",
   "metadata": {},
   "outputs": [
    {
     "name": "stdout",
     "output_type": "stream",
     "text": [
      "       supermarket  prices_pounds  per_unit_price unit  \\\n",
      "32546         Aldi           0.65             NaN  NaN   \n",
      "36734         Aldi           0.65             NaN  NaN   \n",
      "150457        Aldi           0.65             NaN  NaN   \n",
      "155823        Aldi           0.65             NaN  NaN   \n",
      "\n",
      "                                                    names      date  \\\n",
      "32546   Saxon Biodegradable Toilet Tissue Wipes - Fine...  20240205   \n",
      "36734   Saxon Biodegradable Toilet Tissue Wipes - Fine...  20240204   \n",
      "150457  Saxon Biodegradable Toilet Tissue Wipes - Fine...  20240110   \n",
      "155823  Saxon Biodegradable Toilet Tissue Wipes - Fine...  20240109   \n",
      "\n",
      "         category  own_brand  \n",
      "32546   household      False  \n",
      "36734   household      False  \n",
      "150457  household      False  \n",
      "155823  household      False  \n"
     ]
    }
   ],
   "source": [
    "rows_starting_with_saxon = df_aldi[df_aldi['names'].str.startswith('Saxon Biodegradable Toilet')]\n",
    "print(rows_starting_with_saxon)"
   ]
  },
  {
   "cell_type": "code",
   "execution_count": null,
   "id": "de9f3da9",
   "metadata": {},
   "outputs": [],
   "source": []
  }
 ],
 "metadata": {
  "kernelspec": {
   "display_name": "Python 3 (ipykernel)",
   "language": "python",
   "name": "python3"
  },
  "language_info": {
   "codemirror_mode": {
    "name": "ipython",
    "version": 3
   },
   "file_extension": ".py",
   "mimetype": "text/x-python",
   "name": "python",
   "nbconvert_exporter": "python",
   "pygments_lexer": "ipython3",
   "version": "3.11.5"
  }
 },
 "nbformat": 4,
 "nbformat_minor": 5
}
